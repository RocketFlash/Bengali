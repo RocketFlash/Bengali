{
 "cells": [
  {
   "cell_type": "code",
   "execution_count": 205,
   "metadata": {},
   "outputs": [],
   "source": [
    "import pandas as pd\n",
    "from matplotlib import pyplot as plt\n",
    "import PIL.Image as Image, PIL.ImageDraw as ImageDraw, PIL.ImageFont as ImageFont"
   ]
  },
  {
   "cell_type": "code",
   "execution_count": 201,
   "metadata": {},
   "outputs": [],
   "source": [
    "df = pd.read_csv('class_map_corrected.csv')\n",
    "# df = pd.read_csv('class_map.csv')\n",
    "graphemes_df = df.loc[df['component_type'] == 'grapheme_root'].reset_index()\n",
    "vowel_df = df.loc[df['component_type'] == 'vowel_diacritic'].reset_index()\n",
    "consonant_df = df.loc[df['component_type'] == 'consonant_diacritic'].reset_index()"
   ]
  },
  {
   "cell_type": "code",
   "execution_count": 52,
   "metadata": {},
   "outputs": [],
   "source": [
    "g_v = graphemes_df.iloc[53]['component']\n",
    "v_v = vowel_df.iloc[5]['component']\n",
    "c_v = consonant_df.iloc[2]['component']"
   ]
  },
  {
   "cell_type": "code",
   "execution_count": 87,
   "metadata": {},
   "outputs": [],
   "source": [
    "df_train = pd.read_csv('train.csv')"
   ]
  },
  {
   "cell_type": "code",
   "execution_count": 237,
   "metadata": {},
   "outputs": [],
   "source": [
    "def generate_from_components(g_i, v_i, c_i):\n",
    "    g_v = graphemes_df.iloc[g_i]['component']\n",
    "    v_v = vowel_df.iloc[v_i]['component']\n",
    "    c_v = consonant_df.iloc[c_i]['component']\n",
    "    vowel_type1 = [2,4,5,6,7,8,9,10]\n",
    "    vowel_type2 = [1,3]\n",
    "    consonant_type1 = [1]\n",
    "    consonant_type2 = [2,3]\n",
    "    consonant_type3 = [5,4]\n",
    "\n",
    "    a = 0\n",
    "\n",
    "    if v_i in vowel_type1:\n",
    "        if c_i == 0:\n",
    "            a = g_v + v_v\n",
    "        elif c_i in consonant_type3:\n",
    "            a = g_v + c_v  + v_v \n",
    "        elif c_i in consonant_type1:\n",
    "            a = g_v + v_v + c_v\n",
    "        else:\n",
    "            a = c_v + g_v + v_v\n",
    "    elif v_i in vowel_type2:\n",
    "        if c_i == 0:\n",
    "            a = g_v + v_v\n",
    "        else:\n",
    "            if c_i in consonant_type1:\n",
    "                a = g_v + v_v+ c_v\n",
    "            elif c_i in consonant_type2:\n",
    "                a = c_v + g_v + v_v\n",
    "            else:\n",
    "                a = g_v + c_v + v_v\n",
    "    else:\n",
    "        if c_i == 0:\n",
    "            a = g_v\n",
    "        else:\n",
    "            if c_i in consonant_type2:\n",
    "                a = c_v+g_v\n",
    "            else:\n",
    "                a = g_v+c_v\n",
    "    \n",
    "    return a"
   ]
  },
  {
   "cell_type": "code",
   "execution_count": 203,
   "metadata": {},
   "outputs": [
    {
     "name": "stdout",
     "output_type": "stream",
     "text": [
      "error in generation\n",
      "29 0 3\n",
      "র্ঘ্য     র্যঘ\n",
      "error in generation\n",
      "43 0 3\n",
      "র্জ্য     র্যজ\n",
      "error in generation\n",
      "71 0 3\n",
      "র্থ্য     র্যথ\n",
      "error in generation\n",
      "72 0 2\n",
      "র্দ্র     র্দ\n",
      "error in generation\n",
      "107 0 3\n",
      "র্ব্য     র্যব\n",
      "error in generation\n",
      "123 1 4\n",
      "র‍্যা     র্যা\n",
      "6\n",
      "1292\n"
     ]
    }
   ],
   "source": [
    "total_n_errors = 0\n",
    "total_n_samples = 0\n",
    "for i in range(168):\n",
    "    for j in range(11):\n",
    "        for k in range(7):\n",
    "            df_filtered_i = df_train.loc[df_train['grapheme_root'] == i]\n",
    "            df_filtered_j = df_filtered_i.loc[df_filtered_i['vowel_diacritic'] == j]\n",
    "            df_filtered_k = df_filtered_j.loc[df_filtered_j['consonant_diacritic'] == k]\n",
    "            if not df_filtered_k.empty:\n",
    "                total_n_samples+=1\n",
    "                grapheme_true = df_filtered_k.iloc[0]['grapheme']\n",
    "                grapheme_generated = generate_from_components(g_i=i, v_i=j, c_i=k)\n",
    "                if not grapheme_true==grapheme_generated:\n",
    "                    total_n_errors+=1\n",
    "                    print('error in generation')\n",
    "                    print(i,j,k)\n",
    "                    print(grapheme_true, '   ', grapheme_generated)\n",
    "print(total_n_errors)\n",
    "print(total_n_samples)\n",
    "\n",
    "#skip v = 0 , c=2or3"
   ]
  },
  {
   "cell_type": "code",
   "execution_count": 287,
   "metadata": {},
   "outputs": [],
   "source": [
    "def image_from_char(char):\n",
    "    HEIGHT = 137\n",
    "    WIDTH = 236\n",
    "    image = Image.new('RGB', (WIDTH, HEIGHT))\n",
    "    draw = ImageDraw.Draw(image)\n",
    "    myfont = ImageFont.truetype('Siyamrupali_1.ttf', 50, layout_engine=ImageFont.LAYOUT_RAQM)\n",
    "    w, h = draw.textsize(char, font=myfont)\n",
    "    draw.text(((WIDTH - w) / 2,(HEIGHT - h) / 3), char, font=myfont)\n",
    "\n",
    "    return image"
   ]
  },
  {
   "cell_type": "code",
   "execution_count": 288,
   "metadata": {},
   "outputs": [
    {
     "name": "stdout",
     "output_type": "stream",
     "text": [
      "ল্টি\n",
      "র্ঞ্ছী\n",
      "র্ঞ্ছূ\n",
      "র্যঞ্ছি\n"
     ]
    },
    {
     "data": {
      "text/plain": [
       "<matplotlib.image.AxesImage at 0x12a48bc90>"
      ]
     },
     "execution_count": 288,
     "metadata": {},
     "output_type": "execute_result"
    },
    {
     "data": {
      "image/png": "[encoded data removed]",
      "text/plain": [
       "<Figure size 1152x576 with 4 Axes>"
      ]
     },
     "metadata": {
      "needs_background": "light"
     },
     "output_type": "display_data"
    }
   ],
   "source": [
    "a_1 = generate_from_components(g_i=127, v_i=2, c_i=0)\n",
    "a_2 = generate_from_components(g_i=51, v_i=3, c_i=2)\n",
    "a_3 = generate_from_components(g_i=51, v_i=5, c_i=2)\n",
    "a_4 = generate_from_components(g_i=51, v_i=2, c_i=3)\n",
    "f, ax = plt.subplots(2, 2, figsize=(16, 8))\n",
    "ax = ax.flatten()\n",
    "\n",
    "print(a_1)\n",
    "print(a_2)\n",
    "print(a_3)\n",
    "print(a_4)\n",
    "ax[0].imshow(image_from_char(a_1), cmap='Greys')\n",
    "ax[1].imshow(image_from_char(a_2), cmap='Greys')\n",
    "ax[2].imshow(image_from_char(a_3), cmap='Greys')\n",
    "ax[3].imshow(image_from_char(a_4), cmap='Greys')\n"
   ]
  },
  {
   "cell_type": "code",
   "execution_count": null,
   "metadata": {},
   "outputs": [],
   "source": [
    "ল্টি"
   ]
  },
  {
   "cell_type": "code",
   "execution_count": 224,
   "metadata": {},
   "outputs": [],
   "source": [
    "\n",
    "g_v = graphemes_df.iloc[127]['component']\n",
    "v_v = vowel_df.iloc[2]['component']\n",
    "c_v = consonant_df.iloc[0]['component']"
   ]
  },
  {
   "cell_type": "code",
   "execution_count": 225,
   "metadata": {},
   "outputs": [
    {
     "name": "stdout",
     "output_type": "stream",
     "text": [
      "ল্টি0\n",
      "ল্ট0ি\n",
      "িল্ট0\n",
      "0ল্টি\n",
      "0িল্ট\n",
      "ি0ল্ট\n"
     ]
    }
   ],
   "source": [
    "print(g_v+v_v+c_v)\n",
    "print(g_v+c_v+v_v)\n",
    "print(v_v+g_v+c_v)\n",
    "print(c_v+g_v+v_v)\n",
    "print(c_v+v_v+g_v)\n",
    "print(v_v+c_v+g_v)\n"
   ]
  },
  {
   "cell_type": "code",
   "execution_count": 175,
   "metadata": {},
   "outputs": [],
   "source": [
    "c_v_2 = consonant_df.iloc[4]['component']"
   ]
  },
  {
   "cell_type": "code",
   "execution_count": 183,
   "metadata": {},
   "outputs": [
    {
     "data": {
      "text/plain": [
       "'ঘ্যর্য'"
      ]
     },
     "execution_count": 183,
     "metadata": {},
     "output_type": "execute_result"
    }
   ],
   "source": [
    "g_v+c_v_2+c_v"
   ]
  },
  {
   "cell_type": "code",
   "execution_count": 174,
   "metadata": {},
   "outputs": [
    {
     "data": {
      "text/plain": [
       "'ঘ'"
      ]
     },
     "execution_count": 174,
     "metadata": {},
     "output_type": "execute_result"
    }
   ],
   "source": [
    "g_v"
   ]
  },
  {
   "cell_type": "code",
   "execution_count": null,
   "metadata": {},
   "outputs": [],
   "source": [
    "Train_200839"
   ]
  }
 ],
 "metadata": {
  "kernelspec": {
   "display_name": "Python 3",
   "language": "python",
   "name": "python3"
  },
  "language_info": {
   "codemirror_mode": {
    "name": "ipython",
    "version": 3
   },
   "file_extension": ".py",
   "mimetype": "text/x-python",
   "name": "python",
   "nbconvert_exporter": "python",
   "pygments_lexer": "ipython3",
   "version": "3.7.6"
  }
 },
 "nbformat": 4,
 "nbformat_minor": 4
}
